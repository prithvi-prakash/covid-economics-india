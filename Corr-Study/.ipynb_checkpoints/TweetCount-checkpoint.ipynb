{
 "cells": [
  {
   "cell_type": "code",
   "execution_count": 23,
   "id": "d6d0dd54",
   "metadata": {},
   "outputs": [],
   "source": [
    "import glob\n",
    "import pandas as pd\n",
    "from IPython.display import clear_output"
   ]
  },
  {
   "cell_type": "code",
   "execution_count": 11,
   "id": "910c9324",
   "metadata": {},
   "outputs": [],
   "source": [
    "path = \"./Datasets/cities-sentiment\""
   ]
  },
  {
   "cell_type": "code",
   "execution_count": 22,
   "id": "b44d2ab0",
   "metadata": {},
   "outputs": [],
   "source": [
    "countDict = {}"
   ]
  },
  {
   "cell_type": "code",
   "execution_count": 9,
   "id": "5864bd6c",
   "metadata": {},
   "outputs": [],
   "source": [
    "cities = [\"Mumbai\", \"Bangalore\", \"Hyderabad\", \"Chennai\", \"Delhi\", \"Kolkata\"]"
   ]
  },
  {
   "cell_type": "code",
   "execution_count": 10,
   "id": "9406d047",
   "metadata": {},
   "outputs": [],
   "source": [
    "city = cities[0]"
   ]
  },
  {
   "cell_type": "code",
   "execution_count": 14,
   "id": "53df0cf2",
   "metadata": {},
   "outputs": [],
   "source": [
    "myPath = f\"{path}/{city}/*\""
   ]
  },
  {
   "cell_type": "code",
   "execution_count": 16,
   "id": "cc492803",
   "metadata": {},
   "outputs": [],
   "source": [
    "fileList = glob.glob(myPath)"
   ]
  },
  {
   "cell_type": "code",
   "execution_count": 17,
   "id": "42f4be9b",
   "metadata": {},
   "outputs": [],
   "source": [
    "file = fileList[0]"
   ]
  },
  {
   "cell_type": "code",
   "execution_count": 18,
   "id": "6de3d32b",
   "metadata": {},
   "outputs": [],
   "source": [
    "df = pd.read_csv(file)"
   ]
  },
  {
   "cell_type": "code",
   "execution_count": 20,
   "id": "fcb8e808",
   "metadata": {},
   "outputs": [
    {
     "data": {
      "text/plain": [
       "98"
      ]
     },
     "execution_count": 20,
     "metadata": {},
     "output_type": "execute_result"
    }
   ],
   "source": [
    "count+=df.shape[0]"
   ]
  },
  {
   "cell_type": "code",
   "execution_count": null,
   "id": "dd2d622f",
   "metadata": {},
   "outputs": [],
   "source": [
    "for city in cities:\n",
    "    myPath = f\"{path}/{city}/*\"\n",
    "    fileList = glob.glob(myPath)\n",
    "    count = 0\n",
    "    for idx, file in enumerate(fileList):\n",
    "        clear_output(wait=True)\n",
    "        print(f\"{city}: {idx+1}/{len(fileList)}\")\n",
    "        df = pd.read_csv(file)\n",
    "        count+=df.shape[0]\n",
    "    countDict[city]=count"
   ]
  }
 ],
 "metadata": {
  "kernelspec": {
   "display_name": "Python 3 (ipykernel)",
   "language": "python",
   "name": "python3"
  },
  "language_info": {
   "codemirror_mode": {
    "name": "ipython",
    "version": 3
   },
   "file_extension": ".py",
   "mimetype": "text/x-python",
   "name": "python",
   "nbconvert_exporter": "python",
   "pygments_lexer": "ipython3",
   "version": "3.9.12"
  }
 },
 "nbformat": 4,
 "nbformat_minor": 5
}
