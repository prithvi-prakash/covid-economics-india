{
 "cells": [
  {
   "cell_type": "code",
   "execution_count": 1,
   "id": "c372108a",
   "metadata": {},
   "outputs": [],
   "source": [
    "import pandas as pd"
   ]
  },
  {
   "cell_type": "code",
   "execution_count": 2,
   "id": "fa4f1fe6",
   "metadata": {},
   "outputs": [],
   "source": [
    "df = pd.read_csv(\"./datasets/employment.csv\")"
   ]
  },
  {
   "cell_type": "code",
   "execution_count": 12,
   "id": "70cca343",
   "metadata": {},
   "outputs": [],
   "source": [
    "pre = ['2019M1', '2019M2', '2019M3', '2019M4', '2019M5',\n",
    "       '2019M6', '2019M7', '2019M8', '2019M9', '2019M10', '2019M11', '2019M12',\n",
    "       '2020M1']"
   ]
  },
  {
   "cell_type": "code",
   "execution_count": 13,
   "id": "7ccd79a8",
   "metadata": {},
   "outputs": [],
   "source": [
    "post = ['2020M1', '2020M2', '2020M3', '2020M4', '2020M5', '2020M6', '2020M7',\n",
    "       '2020M8', '2020M9', '2020M10', '2020M11', '2020M12', '2021M1', '2021M2',\n",
    "       '2021M3', '2021M4', '2021M5', '2021M6', '2021M7', '2021M8', '2021M9',\n",
    "       '2021M10', '2021M11', '2021M12', '2022M1', '2022M2', '2022M3', '2022M4',\n",
    "       '2022M5', '2022M6', '2022M7', '2022M8']"
   ]
  },
  {
   "cell_type": "code",
   "execution_count": 27,
   "id": "05910f55",
   "metadata": {},
   "outputs": [],
   "source": [
    "locations = list(df[\"Location Name\"].unique())\n",
    "indicators = list(df[\"Indicator Name\"].unique())"
   ]
  },
  {
   "cell_type": "code",
   "execution_count": 44,
   "id": "3ca281e4",
   "metadata": {},
   "outputs": [
    {
     "data": {
      "text/plain": [
       "['Delhi',\n",
       " 'Andhra Pradesh',\n",
       " 'Telangana',\n",
       " 'Karnataka',\n",
       " 'Tamil Nadu',\n",
       " 'Maharashtra']"
      ]
     },
     "execution_count": 44,
     "metadata": {},
     "output_type": "execute_result"
    }
   ],
   "source": [
    "locations = ['Delhi',\n",
    "#  'Andhra Pradesh',\n",
    " 'Telangana',\n",
    " 'Karnataka',\n",
    " 'Tamil Nadu',\n",
    " 'Maharashtra']"
   ]
  },
  {
   "cell_type": "code",
   "execution_count": 47,
   "id": "d2f662e8",
   "metadata": {},
   "outputs": [],
   "source": [
    "proxy = {\n",
    "    \"Karnataka\": \"Bangalore\",\n",
    "    \"Tamil Nadu\": \"Chennai\",\n",
    "    \"Maharashtra\": \"Mumbai\",\n",
    "    \"Delhi\": \"Delhi\",\n",
    "    \"Telangana\": \"Hyderabad\"\n",
    "}"
   ]
  },
  {
   "cell_type": "code",
   "execution_count": 49,
   "id": "cf7b2283",
   "metadata": {},
   "outputs": [
    {
     "ename": "KeyError",
     "evalue": "'Andhra Pradesh'",
     "output_type": "error",
     "traceback": [
      "\u001b[0;31m---------------------------------------------------------------------------\u001b[0m",
      "\u001b[0;31mKeyError\u001b[0m                                  Traceback (most recent call last)",
      "Input \u001b[0;32mIn [49]\u001b[0m, in \u001b[0;36m<cell line: 1>\u001b[0;34m()\u001b[0m\n\u001b[1;32m      6\u001b[0m newDF[\u001b[38;5;124m\"\u001b[39m\u001b[38;5;124mmonth\u001b[39m\u001b[38;5;124m\"\u001b[39m] \u001b[38;5;241m=\u001b[39m pre\n\u001b[1;32m      7\u001b[0m newDF[\u001b[38;5;124m\"\u001b[39m\u001b[38;5;124mUnemployment\u001b[39m\u001b[38;5;124m\"\u001b[39m] \u001b[38;5;241m=\u001b[39m clean_df[pre]\u001b[38;5;241m.\u001b[39mto_numpy()[\u001b[38;5;241m0\u001b[39m]\n\u001b[0;32m----> 8\u001b[0m newDF\u001b[38;5;241m.\u001b[39mto_csv(\u001b[38;5;124mf\u001b[39m\u001b[38;5;124m\"\u001b[39m\u001b[38;5;124m./cleaned_datasets/employment/pre/\u001b[39m\u001b[38;5;132;01m{\u001b[39;00mproxy[location]\u001b[38;5;132;01m}\u001b[39;00m\u001b[38;5;124m.csv\u001b[39m\u001b[38;5;124m\"\u001b[39m)\n\u001b[1;32m      9\u001b[0m newDF \u001b[38;5;241m=\u001b[39m pd\u001b[38;5;241m.\u001b[39mDataFrame()\n\u001b[1;32m     10\u001b[0m newDF[\u001b[38;5;124m\"\u001b[39m\u001b[38;5;124mmonth\u001b[39m\u001b[38;5;124m\"\u001b[39m] \u001b[38;5;241m=\u001b[39m post\n",
      "\u001b[0;31mKeyError\u001b[0m: 'Andhra Pradesh'"
     ]
    }
   ],
   "source": [
    "for location in locations:\n",
    "    filter_df = df[df[\"Location Name\"]==location]\n",
    "    for indicator in indicators:\n",
    "        clean_df = filter_df[filter_df[\"Indicator Name\"]==\"Unemployment Rate\"]\n",
    "        newDF = pd.DataFrame()\n",
    "        newDF[\"month\"] = pre\n",
    "        newDF[\"Unemployment\"] = clean_df[pre].to_numpy()[0]\n",
    "        newDF.to_csv(f\"./cleaned_datasets/employment/pre/{proxy[location]}.csv\")\n",
    "        newDF = pd.DataFrame()\n",
    "        newDF[\"month\"] = post\n",
    "        newDF[\"Unemployment\"] = clean_df[post].to_numpy()[0]\n",
    "        newDF.to_csv(f\"./cleaned_datasets/employment/post/{proxy[location]}.csv\")"
   ]
  },
  {
   "cell_type": "code",
   "execution_count": 35,
   "id": "4c5635f7",
   "metadata": {},
   "outputs": [
    {
     "data": {
      "text/plain": [
       "['Employed', 'Labour Participation Rate', 'Unemployment Rate']"
      ]
     },
     "execution_count": 35,
     "metadata": {},
     "output_type": "execute_result"
    }
   ],
   "source": [
    "indicators"
   ]
  },
  {
   "cell_type": "code",
   "execution_count": 39,
   "id": "1c24e2d3",
   "metadata": {},
   "outputs": [
    {
     "data": {
      "text/plain": [
       "array([5.67, 3.73, 3.34, 4.09, 4.69, 5.26, 4.78, 5.26, 5.55, 5.38, 5.34,\n",
       "       4.94, 4.95])"
      ]
     },
     "execution_count": 39,
     "metadata": {},
     "output_type": "execute_result"
    }
   ],
   "source": [
    "clean_df[pre].to_numpy()[0]"
   ]
  },
  {
   "cell_type": "code",
   "execution_count": 41,
   "id": "9b252234",
   "metadata": {},
   "outputs": [],
   "source": [
    "newdf = pd.DataFrame()"
   ]
  }
 ],
 "metadata": {
  "kernelspec": {
   "display_name": "Python 3 (ipykernel)",
   "language": "python",
   "name": "python3"
  },
  "language_info": {
   "codemirror_mode": {
    "name": "ipython",
    "version": 3
   },
   "file_extension": ".py",
   "mimetype": "text/x-python",
   "name": "python",
   "nbconvert_exporter": "python",
   "pygments_lexer": "ipython3",
   "version": "3.9.12"
  }
 },
 "nbformat": 4,
 "nbformat_minor": 5
}
