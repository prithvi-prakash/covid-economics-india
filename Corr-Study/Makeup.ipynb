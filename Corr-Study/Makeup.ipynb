{
 "cells": [
  {
   "cell_type": "code",
   "execution_count": 20,
   "id": "a7a3af36",
   "metadata": {},
   "outputs": [],
   "source": [
    "import glob\n",
    "import pandas as pd\n",
    "from IPython.display import clear_output\n",
    "import matplotlib.pyplot as plt\n",
    "import numpy as np\n",
    "import datetime\n",
    "import shutil"
   ]
  },
  {
   "cell_type": "code",
   "execution_count": 14,
   "id": "f392e29b",
   "metadata": {},
   "outputs": [],
   "source": [
    "city = \"Chennai\""
   ]
  },
  {
   "cell_type": "code",
   "execution_count": 23,
   "id": "3534e61a",
   "metadata": {},
   "outputs": [],
   "source": [
    "missList = sorted(glob.glob(f\"./Datasets/cities-sentiment/{city}/*\"))"
   ]
  },
  {
   "cell_type": "code",
   "execution_count": 24,
   "id": "7f1150c8",
   "metadata": {},
   "outputs": [],
   "source": [
    "cList = []\n",
    "for item in missList:\n",
    "    cList.append(item.split(\"/\")[-1].split(\".\")[0])"
   ]
  },
  {
   "cell_type": "code",
   "execution_count": 25,
   "id": "19f39231",
   "metadata": {},
   "outputs": [],
   "source": [
    "cSet = set(cList)"
   ]
  },
  {
   "cell_type": "code",
   "execution_count": 26,
   "id": "218e317e",
   "metadata": {},
   "outputs": [],
   "source": [
    "from datetime import date, timedelta\n",
    "\n",
    "start_date = date(2019, 1, 1)\n",
    "end_date = date(2022, 8, 31)\n",
    "delta = timedelta(days=1)\n",
    "while start_date <= end_date:\n",
    "    pathBuilder = \"\"\n",
    "    stringDate = start_date.strftime(\"%Y-%m-%d\")\n",
    "    if(stringDate not in cSet):\n",
    "        pathBuilder = f\"./Datasets/missing-sentiment/{city}/{stringDate}.csv\"\n",
    "        print(pathBuilder)\n",
    "        shutil.copyfile(pathBuilder, pathBuilder.replace(\"missing\", \"cities\"))\n",
    "    start_date += delta"
   ]
  },
  {
   "cell_type": "code",
   "execution_count": 27,
   "id": "78050567",
   "metadata": {},
   "outputs": [],
   "source": [
    "def makeupMissing(city):\n",
    "    missList = sorted(glob.glob(f\"./Datasets/cities-sentiment/{city}/*\"))\n",
    "    cList = []\n",
    "    for item in missList:\n",
    "        cList.append(item.split(\"/\")[-1].split(\".\")[0])\n",
    "    \n",
    "    cSet = set(cList)\n",
    "    \n",
    "    from datetime import date, timedelta\n",
    "\n",
    "    start_date = date(2019, 1, 1)\n",
    "    end_date = date(2022, 8, 31)\n",
    "    delta = timedelta(days=1)\n",
    "    while start_date <= end_date:\n",
    "        pathBuilder = \"\"\n",
    "        stringDate = start_date.strftime(\"%Y-%m-%d\")\n",
    "        if(stringDate not in cSet):\n",
    "            pathBuilder = f\"./Datasets/missing-sentiment/{city}/{stringDate}.csv\"\n",
    "            print(pathBuilder)\n",
    "            shutil.copyfile(pathBuilder, pathBuilder.replace(\"missing\", \"cities\"))\n",
    "        start_date += delta"
   ]
  },
  {
   "cell_type": "code",
   "execution_count": 36,
   "id": "301b027b",
   "metadata": {},
   "outputs": [
    {
     "name": "stdout",
     "output_type": "stream",
     "text": [
      "./Datasets/missing-sentiment/Chennai/2020-08-10.csv\n",
      "./Datasets/missing-sentiment/Chennai/2020-08-11.csv\n",
      "./Datasets/missing-sentiment/Chennai/2020-08-12.csv\n",
      "./Datasets/missing-sentiment/Chennai/2020-08-13.csv\n",
      "./Datasets/missing-sentiment/Chennai/2020-08-14.csv\n",
      "./Datasets/missing-sentiment/Chennai/2020-08-15.csv\n",
      "./Datasets/missing-sentiment/Chennai/2020-08-16.csv\n",
      "./Datasets/missing-sentiment/Chennai/2020-08-17.csv\n"
     ]
    }
   ],
   "source": [
    "makeupMissing(\"Chennai\")"
   ]
  },
  {
   "cell_type": "code",
   "execution_count": 37,
   "id": "de096180",
   "metadata": {},
   "outputs": [
    {
     "name": "stdout",
     "output_type": "stream",
     "text": [
      "./Datasets/missing-sentiment/Bangalore/2020-08-10.csv\n",
      "./Datasets/missing-sentiment/Bangalore/2020-08-11.csv\n",
      "./Datasets/missing-sentiment/Bangalore/2020-08-12.csv\n",
      "./Datasets/missing-sentiment/Bangalore/2020-08-13.csv\n",
      "./Datasets/missing-sentiment/Bangalore/2020-08-14.csv\n",
      "./Datasets/missing-sentiment/Bangalore/2020-08-15.csv\n",
      "./Datasets/missing-sentiment/Bangalore/2020-08-16.csv\n"
     ]
    }
   ],
   "source": [
    "makeupMissing(\"Bangalore\")"
   ]
  },
  {
   "cell_type": "code",
   "execution_count": 38,
   "id": "ecf59e05",
   "metadata": {},
   "outputs": [
    {
     "name": "stdout",
     "output_type": "stream",
     "text": [
      "./Datasets/missing-sentiment/Mumbai/2020-08-11.csv\n",
      "./Datasets/missing-sentiment/Mumbai/2020-08-12.csv\n",
      "./Datasets/missing-sentiment/Mumbai/2020-08-13.csv\n",
      "./Datasets/missing-sentiment/Mumbai/2020-08-14.csv\n",
      "./Datasets/missing-sentiment/Mumbai/2020-08-15.csv\n",
      "./Datasets/missing-sentiment/Mumbai/2020-08-16.csv\n",
      "./Datasets/missing-sentiment/Mumbai/2020-08-17.csv\n"
     ]
    }
   ],
   "source": [
    "makeupMissing(\"Mumbai\")"
   ]
  },
  {
   "cell_type": "code",
   "execution_count": 39,
   "id": "55a8a044",
   "metadata": {},
   "outputs": [
    {
     "name": "stdout",
     "output_type": "stream",
     "text": [
      "./Datasets/missing-sentiment/Kolkata/2020-08-11.csv\n",
      "./Datasets/missing-sentiment/Kolkata/2020-08-12.csv\n",
      "./Datasets/missing-sentiment/Kolkata/2020-08-13.csv\n",
      "./Datasets/missing-sentiment/Kolkata/2020-08-14.csv\n",
      "./Datasets/missing-sentiment/Kolkata/2020-08-15.csv\n",
      "./Datasets/missing-sentiment/Kolkata/2020-08-16.csv\n",
      "./Datasets/missing-sentiment/Kolkata/2020-08-17.csv\n"
     ]
    }
   ],
   "source": [
    "makeupMissing(\"Kolkata\")"
   ]
  },
  {
   "cell_type": "code",
   "execution_count": 40,
   "id": "0d16428c",
   "metadata": {},
   "outputs": [
    {
     "name": "stdout",
     "output_type": "stream",
     "text": [
      "./Datasets/missing-sentiment/Hyderabad/2020-08-10.csv\n",
      "./Datasets/missing-sentiment/Hyderabad/2020-08-11.csv\n",
      "./Datasets/missing-sentiment/Hyderabad/2020-08-12.csv\n",
      "./Datasets/missing-sentiment/Hyderabad/2020-08-13.csv\n",
      "./Datasets/missing-sentiment/Hyderabad/2020-08-14.csv\n",
      "./Datasets/missing-sentiment/Hyderabad/2020-08-15.csv\n",
      "./Datasets/missing-sentiment/Hyderabad/2020-08-16.csv\n"
     ]
    }
   ],
   "source": [
    "makeupMissing(\"Hyderabad\")"
   ]
  },
  {
   "cell_type": "code",
   "execution_count": 41,
   "id": "36906e0c",
   "metadata": {},
   "outputs": [
    {
     "name": "stdout",
     "output_type": "stream",
     "text": [
      "./Datasets/missing-sentiment/Delhi/2020-08-11.csv\n",
      "./Datasets/missing-sentiment/Delhi/2020-08-12.csv\n",
      "./Datasets/missing-sentiment/Delhi/2020-08-13.csv\n",
      "./Datasets/missing-sentiment/Delhi/2020-08-14.csv\n",
      "./Datasets/missing-sentiment/Delhi/2020-08-15.csv\n",
      "./Datasets/missing-sentiment/Delhi/2020-08-16.csv\n",
      "./Datasets/missing-sentiment/Delhi/2020-08-17.csv\n"
     ]
    }
   ],
   "source": [
    "makeupMissing(\"Delhi\")"
   ]
  },
  {
   "cell_type": "code",
   "execution_count": null,
   "id": "46306b51",
   "metadata": {},
   "outputs": [],
   "source": []
  }
 ],
 "metadata": {
  "kernelspec": {
   "display_name": "Python 3 (ipykernel)",
   "language": "python",
   "name": "python3"
  },
  "language_info": {
   "codemirror_mode": {
    "name": "ipython",
    "version": 3
   },
   "file_extension": ".py",
   "mimetype": "text/x-python",
   "name": "python",
   "nbconvert_exporter": "python",
   "pygments_lexer": "ipython3",
   "version": "3.9.12"
  }
 },
 "nbformat": 4,
 "nbformat_minor": 5
}
