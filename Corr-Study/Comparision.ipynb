{
 "cells": [
  {
   "cell_type": "code",
   "execution_count": 1,
   "id": "56e60d1b",
   "metadata": {},
   "outputs": [],
   "source": [
    "import pandas as pd\n",
    "import glob\n",
    "import matplotlib.pyplot as plot\n",
    "from scipy.stats import pearsonr\n",
    "import matplotlib.pyplot as plt\n",
    "import numpy as np"
   ]
  },
  {
   "cell_type": "code",
   "execution_count": 2,
   "id": "31f1d828",
   "metadata": {},
   "outputs": [],
   "source": [
    "root = \"./cleaned_datasets\""
   ]
  },
  {
   "cell_type": "code",
   "execution_count": 3,
   "id": "f4faaeb5",
   "metadata": {},
   "outputs": [],
   "source": [
    "def readFolder(folder, time, col):\n",
    "    readFolder = f\"{root}/{folder}/{time}/*.csv\"\n",
    "    fileList = glob.glob(readFolder)\n",
    "    myDict = {}\n",
    "    for file in fileList:\n",
    "        city = file.split(\"/\")[-1].split(\".\")[0]\n",
    "        mdf = pd.read_csv(file)\n",
    "#         print(mdf.columns)\n",
    "        myDict[city] = list(mdf[col])\n",
    "    return myDict"
   ]
  },
  {
   "cell_type": "code",
   "execution_count": 4,
   "id": "267fb767",
   "metadata": {},
   "outputs": [],
   "source": [
    "preSentDict = readFolder(\"SentimentIndex\", \"pre\", \"sentimentRatio\")"
   ]
  },
  {
   "cell_type": "code",
   "execution_count": 33,
   "id": "3e15142d",
   "metadata": {},
   "outputs": [],
   "source": [
    "prePetrolDict = readFolder(\"diesel\", \"pre\", \"rate\")"
   ]
  },
  {
   "cell_type": "code",
   "execution_count": 9,
   "id": "4523ec1e",
   "metadata": {},
   "outputs": [],
   "source": [
    "def getCorrMat(d1, d2, limit):\n",
    "    cities = list(d1.keys())\n",
    "    corrs = []\n",
    "    for city in cities:\n",
    "        print(city)\n",
    "        corr, _ = pearsonr(d1[city][:limit], d2[city])\n",
    "        corrs.append(corr)\n",
    "    return corrs, cities"
   ]
  },
  {
   "cell_type": "code",
   "execution_count": 35,
   "id": "7b3d427f",
   "metadata": {
    "scrolled": true
   },
   "outputs": [
    {
     "name": "stdout",
     "output_type": "stream",
     "text": [
      "Hyderabad\n",
      "Delhi\n",
      "Chennai\n",
      "Mumbai\n",
      "Bangalore\n"
     ]
    }
   ],
   "source": [
    "cMat, cities = getCorrMat(preSentDict, prePetrolDict, 13)"
   ]
  },
  {
   "cell_type": "code",
   "execution_count": 36,
   "id": "ddfa0929",
   "metadata": {},
   "outputs": [
    {
     "data": {
      "text/plain": [
       "-0.2916362071030322"
      ]
     },
     "execution_count": 36,
     "metadata": {},
     "output_type": "execute_result"
    }
   ],
   "source": [
    "np.mean(cMat)"
   ]
  },
  {
   "cell_type": "code",
   "execution_count": 22,
   "id": "4915ee72",
   "metadata": {},
   "outputs": [
    {
     "data": {
      "image/png": "[encoded data removed]",
      "text/plain": [
       "<Figure size 720x432 with 1 Axes>"
      ]
     },
     "metadata": {
      "needs_background": "light"
     },
     "output_type": "display_data"
    }
   ],
   "source": [
    "plt.figure(figsize=(10, 6))\n",
    "plt.title(\"Employment Correlation (Pre-Pandemic)\")\n",
    "plt.bar(np.arange(len(cMat)), cMat)\n",
    "plt.xticks(np.arange(len(cMat)), cities, rotation=45)\n",
    "plt.ylim(-1, 1)\n",
    "plt.savefig(\"./viz/employment_pre.jpg\")\n",
    "plt.show()"
   ]
  },
  {
   "cell_type": "code",
   "execution_count": 38,
   "id": "8324c34e",
   "metadata": {},
   "outputs": [],
   "source": [
    "postSentDict = readFolder(\"SentimentIndex\", \"post\", \"sentimentRatio\")\n",
    "postPetrolDict = readFolder(\"diesel\", \"post\", \"rate\")\n",
    "del postSentDict[\"Kolkata\"]"
   ]
  },
  {
   "cell_type": "code",
   "execution_count": null,
   "id": "ffad2b29",
   "metadata": {},
   "outputs": [],
   "source": [
    "petro"
   ]
  },
  {
   "cell_type": "code",
   "execution_count": 43,
   "id": "0ba42372",
   "metadata": {},
   "outputs": [
    {
     "data": {
      "text/plain": [
       "12"
      ]
     },
     "execution_count": 43,
     "metadata": {},
     "output_type": "execute_result"
    }
   ],
   "source": [
    "len(postPetrolDict[\"Hyderabad\"])"
   ]
  },
  {
   "cell_type": "code",
   "execution_count": 44,
   "id": "8ebc03a7",
   "metadata": {
    "scrolled": true
   },
   "outputs": [
    {
     "name": "stdout",
     "output_type": "stream",
     "text": [
      "Hyderabad\n",
      "Delhi\n",
      "Chennai\n",
      "Mumbai\n",
      "Bangalore\n"
     ]
    }
   ],
   "source": [
    "cMat, cities = getCorrMat(postSentDict, postPetrolDict, 12)"
   ]
  },
  {
   "cell_type": "code",
   "execution_count": 27,
   "id": "bbab482e",
   "metadata": {},
   "outputs": [
    {
     "data": {
      "image/png": "[encoded data removed]",
      "text/plain": [
       "<Figure size 720x432 with 1 Axes>"
      ]
     },
     "metadata": {
      "needs_background": "light"
     },
     "output_type": "display_data"
    }
   ],
   "source": [
    "plt.figure(figsize=(10, 6))\n",
    "plt.title(\"Employment Correlation (Post-Pandemic)\")\n",
    "plt.bar(np.arange(len(cMat)), cMat, color=\"red\")\n",
    "plt.xticks(np.arange(len(cMat)), cities, rotation=45)\n",
    "plt.ylim(-1, 1)\n",
    "plt.savefig(\"./viz/employment_post.jpg\")\n",
    "plt.show()"
   ]
  },
  {
   "cell_type": "code",
   "execution_count": 45,
   "id": "2cf91307",
   "metadata": {},
   "outputs": [
    {
     "data": {
      "text/plain": [
       "0.31251717270054125"
      ]
     },
     "execution_count": 45,
     "metadata": {},
     "output_type": "execute_result"
    }
   ],
   "source": [
    "np.mean(cMat)"
   ]
  },
  {
   "cell_type": "code",
   "execution_count": null,
   "id": "4ac18890",
   "metadata": {},
   "outputs": [],
   "source": []
  }
 ],
 "metadata": {
  "kernelspec": {
   "display_name": "Python 3 (ipykernel)",
   "language": "python",
   "name": "python3"
  },
  "language_info": {
   "codemirror_mode": {
    "name": "ipython",
    "version": 3
   },
   "file_extension": ".py",
   "mimetype": "text/x-python",
   "name": "python",
   "nbconvert_exporter": "python",
   "pygments_lexer": "ipython3",
   "version": "3.9.12"
  }
 },
 "nbformat": 4,
 "nbformat_minor": 5
}
