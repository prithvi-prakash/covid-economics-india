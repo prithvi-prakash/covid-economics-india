{
 "cells": [
  {
   "cell_type": "code",
   "execution_count": 2,
   "id": "2cc0c08e",
   "metadata": {},
   "outputs": [],
   "source": [
    "import pandas as pd\n",
    "import matplotlib.pyplot as plt\n",
    "import numpy as np"
   ]
  },
  {
   "cell_type": "code",
   "execution_count": 2,
   "id": "387c099e",
   "metadata": {},
   "outputs": [],
   "source": [
    "df = pd.read_csv(\"./Datasets/petrol.csv\")"
   ]
  },
  {
   "cell_type": "code",
   "execution_count": 3,
   "id": "405945b6",
   "metadata": {},
   "outputs": [],
   "source": [
    "Y, M, D = [], [], []\n",
    "for idx, item in df.iterrows():\n",
    "    y, m, d = item[\"date\"].split(\"-\")\n",
    "    Y.append(int(y))\n",
    "    M.append(int(m))\n",
    "    D.append(int(d))\n",
    "    \n",
    "df[\"Year\"] = Y\n",
    "df[\"Month\"] = M\n",
    "df[\"Day\"] = D"
   ]
  },
  {
   "cell_type": "code",
   "execution_count": 4,
   "id": "21f8167b",
   "metadata": {},
   "outputs": [],
   "source": [
    "df[\"Year\"] = Y\n",
    "df[\"Month\"] = M\n",
    "df[\"Day\"] = D"
   ]
  },
  {
   "cell_type": "code",
   "execution_count": 17,
   "id": "c20b1d31",
   "metadata": {},
   "outputs": [
    {
     "data": {
      "text/html": [
       "<div>\n",
       "<style scoped>\n",
       "    .dataframe tbody tr th:only-of-type {\n",
       "        vertical-align: middle;\n",
       "    }\n",
       "\n",
       "    .dataframe tbody tr th {\n",
       "        vertical-align: top;\n",
       "    }\n",
       "\n",
       "    .dataframe thead th {\n",
       "        text-align: right;\n",
       "    }\n",
       "</style>\n",
       "<table border=\"1\" class=\"dataframe\">\n",
       "  <thead>\n",
       "    <tr style=\"text-align: right;\">\n",
       "      <th></th>\n",
       "      <th>city</th>\n",
       "      <th>date</th>\n",
       "      <th>rate</th>\n",
       "      <th>state</th>\n",
       "      <th>Year</th>\n",
       "      <th>Month</th>\n",
       "      <th>Day</th>\n",
       "    </tr>\n",
       "  </thead>\n",
       "  <tbody>\n",
       "    <tr>\n",
       "      <th>0</th>\n",
       "      <td>Hyderabad</td>\n",
       "      <td>2011-12-01</td>\n",
       "      <td>73.07</td>\n",
       "      <td>Telangana</td>\n",
       "      <td>2011</td>\n",
       "      <td>12</td>\n",
       "      <td>1</td>\n",
       "    </tr>\n",
       "    <tr>\n",
       "      <th>1</th>\n",
       "      <td>Hyderabad</td>\n",
       "      <td>2012-04-01</td>\n",
       "      <td>73.08</td>\n",
       "      <td>Telangana</td>\n",
       "      <td>2012</td>\n",
       "      <td>4</td>\n",
       "      <td>1</td>\n",
       "    </tr>\n",
       "    <tr>\n",
       "      <th>2</th>\n",
       "      <td>Hyderabad</td>\n",
       "      <td>2012-05-24</td>\n",
       "      <td>81.44</td>\n",
       "      <td>Telangana</td>\n",
       "      <td>2012</td>\n",
       "      <td>5</td>\n",
       "      <td>24</td>\n",
       "    </tr>\n",
       "    <tr>\n",
       "      <th>3</th>\n",
       "      <td>Hyderabad</td>\n",
       "      <td>2012-06-03</td>\n",
       "      <td>78.11</td>\n",
       "      <td>Telangana</td>\n",
       "      <td>2012</td>\n",
       "      <td>6</td>\n",
       "      <td>3</td>\n",
       "    </tr>\n",
       "    <tr>\n",
       "      <th>4</th>\n",
       "      <td>Hyderabad</td>\n",
       "      <td>2012-06-29</td>\n",
       "      <td>74.89</td>\n",
       "      <td>Telangana</td>\n",
       "      <td>2012</td>\n",
       "      <td>6</td>\n",
       "      <td>29</td>\n",
       "    </tr>\n",
       "    <tr>\n",
       "      <th>...</th>\n",
       "      <td>...</td>\n",
       "      <td>...</td>\n",
       "      <td>...</td>\n",
       "      <td>...</td>\n",
       "      <td>...</td>\n",
       "      <td>...</td>\n",
       "      <td>...</td>\n",
       "    </tr>\n",
       "    <tr>\n",
       "      <th>5043</th>\n",
       "      <td>Mumbai</td>\n",
       "      <td>2020-12-27</td>\n",
       "      <td>90.30</td>\n",
       "      <td>Maharashtra</td>\n",
       "      <td>2020</td>\n",
       "      <td>12</td>\n",
       "      <td>27</td>\n",
       "    </tr>\n",
       "    <tr>\n",
       "      <th>5044</th>\n",
       "      <td>Mumbai</td>\n",
       "      <td>2020-12-28</td>\n",
       "      <td>90.30</td>\n",
       "      <td>Maharashtra</td>\n",
       "      <td>2020</td>\n",
       "      <td>12</td>\n",
       "      <td>28</td>\n",
       "    </tr>\n",
       "    <tr>\n",
       "      <th>5045</th>\n",
       "      <td>Mumbai</td>\n",
       "      <td>2020-12-29</td>\n",
       "      <td>90.30</td>\n",
       "      <td>Maharashtra</td>\n",
       "      <td>2020</td>\n",
       "      <td>12</td>\n",
       "      <td>29</td>\n",
       "    </tr>\n",
       "    <tr>\n",
       "      <th>5046</th>\n",
       "      <td>Mumbai</td>\n",
       "      <td>2020-12-30</td>\n",
       "      <td>90.30</td>\n",
       "      <td>Maharashtra</td>\n",
       "      <td>2020</td>\n",
       "      <td>12</td>\n",
       "      <td>30</td>\n",
       "    </tr>\n",
       "    <tr>\n",
       "      <th>5047</th>\n",
       "      <td>Mumbai</td>\n",
       "      <td>2020-12-31</td>\n",
       "      <td>90.30</td>\n",
       "      <td>Maharashtra</td>\n",
       "      <td>2020</td>\n",
       "      <td>12</td>\n",
       "      <td>31</td>\n",
       "    </tr>\n",
       "  </tbody>\n",
       "</table>\n",
       "<p>5048 rows × 7 columns</p>\n",
       "</div>"
      ],
      "text/plain": [
       "           city        date   rate        state  Year  Month  Day\n",
       "0     Hyderabad  2011-12-01  73.07    Telangana  2011     12    1\n",
       "1     Hyderabad  2012-04-01  73.08    Telangana  2012      4    1\n",
       "2     Hyderabad  2012-05-24  81.44    Telangana  2012      5   24\n",
       "3     Hyderabad  2012-06-03  78.11    Telangana  2012      6    3\n",
       "4     Hyderabad  2012-06-29  74.89    Telangana  2012      6   29\n",
       "...         ...         ...    ...          ...   ...    ...  ...\n",
       "5043     Mumbai  2020-12-27  90.30  Maharashtra  2020     12   27\n",
       "5044     Mumbai  2020-12-28  90.30  Maharashtra  2020     12   28\n",
       "5045     Mumbai  2020-12-29  90.30  Maharashtra  2020     12   29\n",
       "5046     Mumbai  2020-12-30  90.30  Maharashtra  2020     12   30\n",
       "5047     Mumbai  2020-12-31  90.30  Maharashtra  2020     12   31\n",
       "\n",
       "[5048 rows x 7 columns]"
      ]
     },
     "execution_count": 17,
     "metadata": {},
     "output_type": "execute_result"
    }
   ],
   "source": [
    "df"
   ]
  },
  {
   "cell_type": "code",
   "execution_count": 6,
   "id": "03bc8050",
   "metadata": {},
   "outputs": [
    {
     "data": {
      "text/plain": [
       "city\n",
       "Bengaluru     975\n",
       "Chennai      1031\n",
       "Delhi        1029\n",
       "Hyderabad     978\n",
       "Mumbai       1035\n",
       "dtype: int64"
      ]
     },
     "execution_count": 6,
     "metadata": {},
     "output_type": "execute_result"
    }
   ],
   "source": [
    "df.groupby(\"city\").size()"
   ]
  },
  {
   "cell_type": "code",
   "execution_count": 3,
   "id": "59417654",
   "metadata": {},
   "outputs": [],
   "source": [
    "def generatePre(df, city):\n",
    "    cityDF = df[df[\"city\"]==city]\n",
    "    y1 = cityDF[cityDF[\"Year\"]==2019]\n",
    "    y2 = cityDF[cityDF[\"Year\"]==2020]\n",
    "    y2 = y2[y2[\"Month\"]==1]\n",
    "    y2 = y2[y2[\"Day\"]<27]\n",
    "    combined = y1.append(y2)\n",
    "    combined = combined.reset_index()\n",
    "    del combined[\"index\"]\n",
    "    return combined.sort_values(\"date\")"
   ]
  },
  {
   "cell_type": "code",
   "execution_count": 4,
   "id": "be6f4ca2",
   "metadata": {},
   "outputs": [],
   "source": [
    "def generatePost(df, city):\n",
    "    cityDF = df[df[\"city\"]==city]\n",
    "    y1 = cityDF[cityDF[\"Year\"]==2020]\n",
    "    y1 = y1[y1[\"Month\"]==1]\n",
    "    y1 = y1[y1[\"Day\"]>=27]\n",
    "    y2 = cityDF[cityDF[\"Year\"]==2020]\n",
    "    y2 = y2[y2[\"Month\"]>1]\n",
    "    comb = y1.append(y2)\n",
    "    comb = comb.reset_index()\n",
    "    del comb[\"index\"]\n",
    "    return comb.sort_values(\"date\")"
   ]
  },
  {
   "cell_type": "code",
   "execution_count": 5,
   "id": "8574b5f6",
   "metadata": {},
   "outputs": [],
   "source": [
    "cityNames = [\"Bengaluru\", \"Chennai\", \"Kolkata\", \"Hyderabad\", \"Delhi\", \"Mumbai\"]"
   ]
  },
  {
   "cell_type": "code",
   "execution_count": 6,
   "id": "9a2ed73d",
   "metadata": {},
   "outputs": [
    {
     "ename": "NameError",
     "evalue": "name 'df' is not defined",
     "output_type": "error",
     "traceback": [
      "\u001b[0;31m---------------------------------------------------------------------------\u001b[0m",
      "\u001b[0;31mNameError\u001b[0m                                 Traceback (most recent call last)",
      "Input \u001b[0;32mIn [6]\u001b[0m, in \u001b[0;36m<cell line: 1>\u001b[0;34m()\u001b[0m\n\u001b[0;32m----> 1\u001b[0m pre \u001b[38;5;241m=\u001b[39m generatePre(\u001b[43mdf\u001b[49m, city)\n",
      "\u001b[0;31mNameError\u001b[0m: name 'df' is not defined"
     ]
    }
   ],
   "source": [
    "pre = generatePre(df, city)"
   ]
  },
  {
   "cell_type": "code",
   "execution_count": 7,
   "id": "c40f63d9",
   "metadata": {},
   "outputs": [],
   "source": [
    "def getMean(myDF):\n",
    "    meanDF = myDF.groupby([\"Year\", \"Month\"]).mean()\n",
    "    del meanDF[\"Day\"]\n",
    "    return meanDF"
   ]
  },
  {
   "cell_type": "code",
   "execution_count": 8,
   "id": "eab453eb",
   "metadata": {},
   "outputs": [],
   "source": [
    "df = pd.read_csv(\"./Datasets/petrol.csv\")\n",
    "\n",
    "Y, M, D = [], [], []\n",
    "for idx, item in df.iterrows():\n",
    "    y, m, d = item[\"date\"].split(\"-\")\n",
    "    Y.append(int(y))\n",
    "    M.append(int(m))\n",
    "    D.append(int(d))\n",
    "    \n",
    "df[\"Year\"] = Y\n",
    "df[\"Month\"] = M\n",
    "df[\"Day\"] = D\n",
    "\n",
    "for city in cityNames:\n",
    "    pre = getMean(generatePre(df, city))\n",
    "    post = getMean(generatePost(df, city))\n",
    "    pre.to_csv(f\"./cleaned_datasets/petrol/pre/{city}.csv\")\n",
    "    post.to_csv(f\"./cleaned_datasets/petrol/post/{city}.csv\")"
   ]
  },
  {
   "cell_type": "code",
   "execution_count": 9,
   "id": "52feb50f",
   "metadata": {},
   "outputs": [],
   "source": [
    "df = pd.read_csv(\"./Datasets/diesel.csv\")\n",
    "\n",
    "Y, M, D = [], [], []\n",
    "for idx, item in df.iterrows():\n",
    "    y, m, d = item[\"date\"].split(\"-\")\n",
    "    Y.append(int(y))\n",
    "    M.append(int(m))\n",
    "    D.append(int(d))\n",
    "    \n",
    "df[\"Year\"] = Y\n",
    "df[\"Month\"] = M\n",
    "df[\"Day\"] = D\n",
    "\n",
    "for city in cityNames:\n",
    "    pre = getMean(generatePre(df, city))\n",
    "    post = getMean(generatePost(df, city))\n",
    "    pre.to_csv(f\"./cleaned_datasets/diesel/pre/{city}.csv\")\n",
    "    post.to_csv(f\"./cleaned_datasets/diesel/post/{city}.csv\")"
   ]
  },
  {
   "cell_type": "code",
   "execution_count": null,
   "id": "ab0d0d0c",
   "metadata": {},
   "outputs": [],
   "source": []
  }
 ],
 "metadata": {
  "kernelspec": {
   "display_name": "Python 3 (ipykernel)",
   "language": "python",
   "name": "python3"
  },
  "language_info": {
   "codemirror_mode": {
    "name": "ipython",
    "version": 3
   },
   "file_extension": ".py",
   "mimetype": "text/x-python",
   "name": "python",
   "nbconvert_exporter": "python",
   "pygments_lexer": "ipython3",
   "version": "3.9.12"
  }
 },
 "nbformat": 4,
 "nbformat_minor": 5
}
