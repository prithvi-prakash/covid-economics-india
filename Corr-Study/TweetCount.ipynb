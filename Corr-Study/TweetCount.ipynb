{
 "cells": [
  {
   "cell_type": "code",
   "execution_count": 23,
   "id": "878e057d",
   "metadata": {},
   "outputs": [],
   "source": [
    "import glob\n",
    "import pandas as pd\n",
    "from IPython.display import clear_output"
   ]
  },
  {
   "cell_type": "code",
   "execution_count": 11,
   "id": "ce4497ea",
   "metadata": {},
   "outputs": [],
   "source": [
    "path = \"./Datasets/cities-sentiment\""
   ]
  },
  {
   "cell_type": "code",
   "execution_count": 22,
   "id": "c4a24d8f",
   "metadata": {},
   "outputs": [],
   "source": [
    "countDict = {}"
   ]
  },
  {
   "cell_type": "code",
   "execution_count": 9,
   "id": "1782c462",
   "metadata": {},
   "outputs": [],
   "source": [
    "cities = [\"Mumbai\", \"Bangalore\", \"Hyderabad\", \"Chennai\", \"Delhi\", \"Kolkata\"]"
   ]
  },
  {
   "cell_type": "code",
   "execution_count": 10,
   "id": "9e628777",
   "metadata": {},
   "outputs": [],
   "source": [
    "city = cities[0]"
   ]
  },
  {
   "cell_type": "code",
   "execution_count": 14,
   "id": "00081a40",
   "metadata": {},
   "outputs": [],
   "source": [
    "myPath = f\"{path}/{city}/*\""
   ]
  },
  {
   "cell_type": "code",
   "execution_count": 16,
   "id": "1be1e9f5",
   "metadata": {},
   "outputs": [],
   "source": [
    "fileList = glob.glob(myPath)"
   ]
  },
  {
   "cell_type": "code",
   "execution_count": 17,
   "id": "737c38d0",
   "metadata": {},
   "outputs": [],
   "source": [
    "file = fileList[0]"
   ]
  },
  {
   "cell_type": "code",
   "execution_count": 18,
   "id": "5e2d2e51",
   "metadata": {},
   "outputs": [],
   "source": [
    "df = pd.read_csv(file)"
   ]
  },
  {
   "cell_type": "code",
   "execution_count": 20,
   "id": "622c7536",
   "metadata": {},
   "outputs": [
    {
     "data": {
      "text/plain": [
       "98"
      ]
     },
     "execution_count": 20,
     "metadata": {},
     "output_type": "execute_result"
    }
   ],
   "source": [
    "count+=df.shape[0]"
   ]
  },
  {
   "cell_type": "code",
   "execution_count": 24,
   "id": "1553fe22",
   "metadata": {},
   "outputs": [
    {
     "name": "stdout",
     "output_type": "stream",
     "text": [
      "Kolkata: 1339/1339\n"
     ]
    }
   ],
   "source": [
    "for city in cities:\n",
    "    myPath = f\"{path}/{city}/*\"\n",
    "    fileList = glob.glob(myPath)\n",
    "    count = 0\n",
    "    for idx, file in enumerate(fileList):\n",
    "        clear_output(wait=True)\n",
    "        print(f\"{city}: {idx+1}/{len(fileList)}\")\n",
    "        df = pd.read_csv(file)\n",
    "        count+=df.shape[0]\n",
    "    countDict[city]=count"
   ]
  },
  {
   "cell_type": "code",
   "execution_count": 26,
   "id": "21f25c86",
   "metadata": {},
   "outputs": [
    {
     "data": {
      "text/plain": [
       "{'Mumbai': 125814,\n",
       " 'Bangalore': 125953,\n",
       " 'Hyderabad': 126824,\n",
       " 'Chennai': 124870,\n",
       " 'Delhi': 125829,\n",
       " 'Kolkata': 125092}"
      ]
     },
     "execution_count": 26,
     "metadata": {},
     "output_type": "execute_result"
    }
   ],
   "source": [
    "countDict"
   ]
  },
  {
   "cell_type": "code",
   "execution_count": 27,
   "id": "30abbd83",
   "metadata": {},
   "outputs": [],
   "source": [
    "total = 0\n",
    "for key in countDict.keys():\n",
    "    total += countDict[key]"
   ]
  },
  {
   "cell_type": "code",
   "execution_count": 28,
   "id": "5c0c1736",
   "metadata": {},
   "outputs": [
    {
     "data": {
      "text/plain": [
       "754382"
      ]
     },
     "execution_count": 28,
     "metadata": {},
     "output_type": "execute_result"
    }
   ],
   "source": [
    "total"
   ]
  },
  {
   "cell_type": "code",
   "execution_count": null,
   "id": "052ff4de",
   "metadata": {},
   "outputs": [],
   "source": []
  }
 ],
 "metadata": {
  "kernelspec": {
   "display_name": "Python 3 (ipykernel)",
   "language": "python",
   "name": "python3"
  },
  "language_info": {
   "codemirror_mode": {
    "name": "ipython",
    "version": 3
   },
   "file_extension": ".py",
   "mimetype": "text/x-python",
   "name": "python",
   "nbconvert_exporter": "python",
   "pygments_lexer": "ipython3",
   "version": "3.9.12"
  }
 },
 "nbformat": 4,
 "nbformat_minor": 5
}
