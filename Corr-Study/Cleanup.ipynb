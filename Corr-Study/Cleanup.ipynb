{
 "cells": [
  {
   "cell_type": "code",
   "execution_count": 1,
   "id": "c8808162",
   "metadata": {},
   "outputs": [],
   "source": [
    "import glob\n",
    "import pandas as pd\n",
    "from IPython.display import clear_output\n",
    "import matplotlib.pyplot as plt\n",
    "import numpy as np\n",
    "import datetime"
   ]
  },
  {
   "cell_type": "code",
   "execution_count": 2,
   "id": "3d9c091f",
   "metadata": {},
   "outputs": [],
   "source": [
    "def running_mean(x, N):\n",
    "    cumsum = np.cumsum(np.insert(x, 0, 0))\n",
    "    return (cumsum[N:] - cumsum[:-N]) / N"
   ]
  },
  {
   "cell_type": "code",
   "execution_count": 22,
   "id": "c016f9be",
   "metadata": {},
   "outputs": [],
   "source": [
    "def getSentimentTS(city, fileList=None):\n",
    "    if(fileList is None):\n",
    "        fileList = sorted(glob.glob(f\"./Datasets/cities-sentiment/{city}/*\"))\n",
    "    sentimentList = []\n",
    "    dates = []\n",
    "    M = []\n",
    "    D = []\n",
    "    Y = []\n",
    "    for idx, file in enumerate(fileList):\n",
    "        clear_output(wait=True)\n",
    "#         print(f\"{idx}/{len(fileList)}\")\n",
    "        df = pd.read_csv(file)\n",
    "        date = file.split(\"/\")[-1].split(\".\")[0]\n",
    "        y, m, d = date.split(\"-\")\n",
    "        Y.append(int(y))\n",
    "        M.append(int(m))\n",
    "        D.append(int(d))\n",
    "        dates.append(date)\n",
    "        scores = df[[\"negative\", \"positive\", \"neutral\"]]\n",
    "        sentimentCount = dict(pd.DataFrame(scores.idxmax(axis=1)).groupby(0).size())\n",
    "        sentimentList.append(sentimentCount)\n",
    "    qf = pd.DataFrame(sentimentList)\n",
    "    qf[\"sentimentIndex\"] = (qf[\"positive\"]*1)+(-1*qf[\"negative\"])\n",
    "    qf[\"sentimentRatio\"] = qf[\"positive\"]/qf[\"negative\"]\n",
    "    qf[\"total\"] = qf[\"positive\"]+qf[\"negative\"]+qf[\"neutral\"]\n",
    "    qf[\"date\"] = dates\n",
    "    qf[\"Y\"] = Y\n",
    "    qf[\"M\"] = M\n",
    "    qf[\"D\"] = D\n",
    "#     rm = running_mean(list(qf[\"sentimentRatio\"]), 30)\n",
    "    return qf"
   ]
  },
  {
   "cell_type": "code",
   "execution_count": 23,
   "id": "5b17ec3a",
   "metadata": {},
   "outputs": [],
   "source": [
    "def getPrecovid(city):\n",
    "    return getSentimentTS(city, fileList=sorted(glob.glob(f\"./Datasets/cities-sentiment/{city}/*\"))[:365+27])"
   ]
  },
  {
   "cell_type": "code",
   "execution_count": 24,
   "id": "19e9ae92",
   "metadata": {},
   "outputs": [],
   "source": [
    "def getPostcovid(city):\n",
    "    return getSentimentTS(city, fileList=sorted(glob.glob(f\"./Datasets/cities-sentiment/{city}/*\"))[365+27:])"
   ]
  },
  {
   "cell_type": "code",
   "execution_count": 28,
   "id": "1ed136a1",
   "metadata": {},
   "outputs": [],
   "source": [
    "def getMonthlyIndex(df):\n",
    "    newDF = df.groupby([\"Y\", \"M\"]).sum()\n",
    "    newDF[\"sentimentRatio\"] = newDF[\"positive\"]/newDF[\"negative\"]\n",
    "    return newDF"
   ]
  },
  {
   "cell_type": "code",
   "execution_count": 36,
   "id": "b1ba3486",
   "metadata": {},
   "outputs": [],
   "source": [
    "# TODO\n",
    "# 1. generate city level datasets pre and post"
   ]
  },
  {
   "cell_type": "code",
   "execution_count": 37,
   "id": "85c4fc45",
   "metadata": {},
   "outputs": [],
   "source": [
    "cityNames = [\"Bangalore\", \"Chennai\", \"Kolkata\", \"Hyderabad\", \"Delhi\", \"Mumbai\"]"
   ]
  },
  {
   "cell_type": "code",
   "execution_count": 44,
   "id": "e7bd4b84",
   "metadata": {},
   "outputs": [],
   "source": [
    "for city in cityNames:\n",
    "    pre = getMonthlyIndex(getPrecovid(city))\n",
    "    post = getMonthlyIndex(getPostcovid(city))\n",
    "    pre.to_csv(f\"./cleaned_datasets/sentimentIndex/pre/{city}.csv\")\n",
    "    post.to_csv(f\"./cleaned_datasets/sentimentIndex/post/{city}.csv\")"
   ]
  },
  {
   "cell_type": "code",
   "execution_count": null,
   "id": "563fae5d",
   "metadata": {},
   "outputs": [],
   "source": []
  }
 ],
 "metadata": {
  "kernelspec": {
   "display_name": "Python 3 (ipykernel)",
   "language": "python",
   "name": "python3"
  },
  "language_info": {
   "codemirror_mode": {
    "name": "ipython",
    "version": 3
   },
   "file_extension": ".py",
   "mimetype": "text/x-python",
   "name": "python",
   "nbconvert_exporter": "python",
   "pygments_lexer": "ipython3",
   "version": "3.9.12"
  }
 },
 "nbformat": 4,
 "nbformat_minor": 5
}
