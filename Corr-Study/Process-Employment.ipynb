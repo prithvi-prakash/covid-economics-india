{
 "cells": [
  {
   "cell_type": "code",
   "execution_count": 1,
   "id": "4ab3d75e",
   "metadata": {},
   "outputs": [],
   "source": [
    "import pandas as pd"
   ]
  },
  {
   "cell_type": "code",
   "execution_count": 2,
   "id": "761777a4",
   "metadata": {},
   "outputs": [],
   "source": [
    "df = pd.read_csv(\"./datasets/employment.csv\")"
   ]
  },
  {
   "cell_type": "code",
   "execution_count": 12,
   "id": "6221386c",
   "metadata": {},
   "outputs": [],
   "source": [
    "pre = ['2019M1', '2019M2', '2019M3', '2019M4', '2019M5',\n",
    "       '2019M6', '2019M7', '2019M8', '2019M9', '2019M10', '2019M11', '2019M12',\n",
    "       '2020M1']"
   ]
  },
  {
   "cell_type": "code",
   "execution_count": 13,
   "id": "61ba8fb9",
   "metadata": {},
   "outputs": [],
   "source": [
    "post = ['2020M1', '2020M2', '2020M3', '2020M4', '2020M5', '2020M6', '2020M7',\n",
    "       '2020M8', '2020M9', '2020M10', '2020M11', '2020M12', '2021M1', '2021M2',\n",
    "       '2021M3', '2021M4', '2021M5', '2021M6', '2021M7', '2021M8', '2021M9',\n",
    "       '2021M10', '2021M11', '2021M12', '2022M1', '2022M2', '2022M3', '2022M4',\n",
    "       '2022M5', '2022M6', '2022M7', '2022M8']"
   ]
  },
  {
   "cell_type": "code",
   "execution_count": 27,
   "id": "54387f8d",
   "metadata": {},
   "outputs": [],
   "source": [
    "locations = list(df[\"Location Name\"].unique())\n",
    "indicators = list(df[\"Indicator Name\"].unique())"
   ]
  },
  {
   "cell_type": "code",
   "execution_count": 50,
   "id": "ac695634",
   "metadata": {},
   "outputs": [],
   "source": [
    "locations = ['Delhi',\n",
    "#  'Andhra Pradesh',\n",
    " 'Telangana',\n",
    " 'Karnataka',\n",
    " 'Tamil Nadu',\n",
    " 'Maharashtra']"
   ]
  },
  {
   "cell_type": "code",
   "execution_count": 47,
   "id": "d9c44a5e",
   "metadata": {},
   "outputs": [],
   "source": [
    "proxy = {\n",
    "    \"Karnataka\": \"Bangalore\",\n",
    "    \"Tamil Nadu\": \"Chennai\",\n",
    "    \"Maharashtra\": \"Mumbai\",\n",
    "    \"Delhi\": \"Delhi\",\n",
    "    \"Telangana\": \"Hyderabad\"\n",
    "}"
   ]
  },
  {
   "cell_type": "code",
   "execution_count": 51,
   "id": "36a820ca",
   "metadata": {},
   "outputs": [],
   "source": [
    "for location in locations:\n",
    "    filter_df = df[df[\"Location Name\"]==location]\n",
    "    for indicator in indicators:\n",
    "        clean_df = filter_df[filter_df[\"Indicator Name\"]==\"Unemployment Rate\"]\n",
    "        newDF = pd.DataFrame()\n",
    "        newDF[\"month\"] = pre\n",
    "        newDF[\"Unemployment\"] = clean_df[pre].to_numpy()[0]\n",
    "        newDF.to_csv(f\"./cleaned_datasets/employment/pre/{proxy[location]}.csv\")\n",
    "        newDF = pd.DataFrame()\n",
    "        newDF[\"month\"] = post\n",
    "        newDF[\"Unemployment\"] = clean_df[post].to_numpy()[0]\n",
    "        newDF.to_csv(f\"./cleaned_datasets/employment/post/{proxy[location]}.csv\")"
   ]
  },
  {
   "cell_type": "code",
   "execution_count": 35,
   "id": "baea7d8d",
   "metadata": {},
   "outputs": [
    {
     "data": {
      "text/plain": [
       "['Employed', 'Labour Participation Rate', 'Unemployment Rate']"
      ]
     },
     "execution_count": 35,
     "metadata": {},
     "output_type": "execute_result"
    }
   ],
   "source": [
    "indicators"
   ]
  },
  {
   "cell_type": "code",
   "execution_count": 39,
   "id": "2fe688ea",
   "metadata": {},
   "outputs": [
    {
     "data": {
      "text/plain": [
       "array([5.67, 3.73, 3.34, 4.09, 4.69, 5.26, 4.78, 5.26, 5.55, 5.38, 5.34,\n",
       "       4.94, 4.95])"
      ]
     },
     "execution_count": 39,
     "metadata": {},
     "output_type": "execute_result"
    }
   ],
   "source": [
    "clean_df[pre].to_numpy()[0]"
   ]
  },
  {
   "cell_type": "code",
   "execution_count": 41,
   "id": "684bfe56",
   "metadata": {},
   "outputs": [],
   "source": [
    "newdf = pd.DataFrame()"
   ]
  }
 ],
 "metadata": {
  "kernelspec": {
   "display_name": "Python 3 (ipykernel)",
   "language": "python",
   "name": "python3"
  },
  "language_info": {
   "codemirror_mode": {
    "name": "ipython",
    "version": 3
   },
   "file_extension": ".py",
   "mimetype": "text/x-python",
   "name": "python",
   "nbconvert_exporter": "python",
   "pygments_lexer": "ipython3",
   "version": "3.9.12"
  }
 },
 "nbformat": 4,
 "nbformat_minor": 5
}
