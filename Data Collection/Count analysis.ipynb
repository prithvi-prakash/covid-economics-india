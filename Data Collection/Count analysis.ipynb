{
 "cells": [
  {
   "cell_type": "code",
   "execution_count": 14,
   "id": "95d207bd",
   "metadata": {},
   "outputs": [],
   "source": [
    "import pandas as pd"
   ]
  },
  {
   "cell_type": "code",
   "execution_count": 23,
   "id": "03902baf",
   "metadata": {},
   "outputs": [],
   "source": [
    "one = pd.read_csv(\"./one.csv\")\n",
    "two = pd.read_csv(\"./two.csv\")"
   ]
  },
  {
   "cell_type": "code",
   "execution_count": 24,
   "id": "37dbb04b",
   "metadata": {},
   "outputs": [],
   "source": [
    "def getCounts(df):\n",
    "    rt, rp, l = df[\"retweets_count\"].mean(), df[\"replies_count\"].mean(), df[\"likes_count\"].mean() \n",
    "    print(f\"Retweets: {rt}; Replies: {rp}; Likes: {l}\")"
   ]
  },
  {
   "cell_type": "code",
   "execution_count": 25,
   "id": "97e0f169",
   "metadata": {},
   "outputs": [
    {
     "name": "stdout",
     "output_type": "stream",
     "text": [
      "Retweets: 2.2; Replies: 0.85; Likes: 23.5\n",
      "Retweets: 2.2; Replies: 0.85; Likes: 23.5\n"
     ]
    }
   ],
   "source": [
    "getCounts(one)\n",
    "getCounts(two)"
   ]
  },
  {
   "cell_type": "code",
   "execution_count": 16,
   "id": "d2a7a589",
   "metadata": {},
   "outputs": [
    {
     "data": {
      "text/plain": [
       "(20, 36)"
      ]
     },
     "execution_count": 16,
     "metadata": {},
     "output_type": "execute_result"
    }
   ],
   "source": [
    "one.shape"
   ]
  },
  {
   "cell_type": "code",
   "execution_count": 17,
   "id": "bb008389",
   "metadata": {},
   "outputs": [
    {
     "data": {
      "text/plain": [
       "(20, 36)"
      ]
     },
     "execution_count": 17,
     "metadata": {},
     "output_type": "execute_result"
    }
   ],
   "source": [
    "two.shape"
   ]
  },
  {
   "cell_type": "code",
   "execution_count": null,
   "id": "87edb1a6",
   "metadata": {},
   "outputs": [],
   "source": []
  },
  {
   "cell_type": "code",
   "execution_count": null,
   "id": "a1a5f3a1",
   "metadata": {},
   "outputs": [],
   "source": []
  }
 ],
 "metadata": {
  "kernelspec": {
   "display_name": "Python 3 (ipykernel)",
   "language": "python",
   "name": "python3"
  },
  "language_info": {
   "codemirror_mode": {
    "name": "ipython",
    "version": 3
   },
   "file_extension": ".py",
   "mimetype": "text/x-python",
   "name": "python",
   "nbconvert_exporter": "python",
   "pygments_lexer": "ipython3",
   "version": "3.9.12"
  }
 },
 "nbformat": 4,
 "nbformat_minor": 5
}
