{
 "cells": [
  {
   "cell_type": "code",
   "execution_count": 1,
   "id": "ae8f3ac4",
   "metadata": {},
   "outputs": [],
   "source": [
    "import cli\n",
    "import subprocess\n",
    "from IPython.display import clear_output"
   ]
  },
  {
   "cell_type": "code",
   "execution_count": 2,
   "id": "d445d592",
   "metadata": {},
   "outputs": [],
   "source": [
    "# subprocess.run('python cli.py --search \"covid\" --since \"2020-05-01\" --until \"2020-05-02\" --limit 10 --near \"India\" -o Jan2019.txt', shell=True)"
   ]
  },
  {
   "cell_type": "code",
   "execution_count": null,
   "id": "e16faad6",
   "metadata": {},
   "outputs": [],
   "source": []
  },
  {
   "cell_type": "code",
   "execution_count": null,
   "id": "50c9add1",
   "metadata": {},
   "outputs": [
    {
     "name": "stdout",
     "output_type": "stream",
     "text": [
      "--since 2020-02-19 --until 2020-02-20\n"
     ]
    }
   ],
   "source": [
    "import datetime\n",
    "since = datetime.date(2020, 2, 1)\n",
    "delta = datetime.timedelta(days=1)\n",
    "stop_date = datetime.date(2021, 2,28 )\n",
    "\n",
    "\n",
    "\n",
    "\n",
    "while since <= stop_date:\n",
    "    clear_output(wait=True)\n",
    "    until = since + delta\n",
    "    print(f\"--since {since.strftime('%Y-%m-%d')} --until {until.strftime('%Y-%m-%d')}\")\n",
    "    command = f'python cli.py --search \"covid\" --since {since.strftime(\"%Y-%m-%d\")} --until {until.strftime(\"%Y-%m-%d\")} --limit 50 --near India -o tweet_dataWave1.json --json'\n",
    "    subprocess.run(command, shell=True)\n",
    "    since += delta\n"
   ]
  },
  {
   "cell_type": "code",
   "execution_count": null,
   "id": "eccc2c7f",
   "metadata": {},
   "outputs": [],
   "source": []
  }
 ],
 "metadata": {
  "kernelspec": {
   "display_name": "Python 3 (ipykernel)",
   "language": "python",
   "name": "python3"
  },
  "language_info": {
   "codemirror_mode": {
    "name": "ipython",
    "version": 3
   },
   "file_extension": ".py",
   "mimetype": "text/x-python",
   "name": "python",
   "nbconvert_exporter": "python",
   "pygments_lexer": "ipython3",
   "version": "3.9.12"
  }
 },
 "nbformat": 4,
 "nbformat_minor": 5
}
